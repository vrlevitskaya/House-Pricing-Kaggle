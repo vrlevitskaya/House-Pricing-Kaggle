{
  "nbformat": 4,
  "nbformat_minor": 0,
  "metadata": {
    "colab": {
      "provenance": [],
      "toc_visible": true
    },
    "kernelspec": {
      "name": "python3",
      "display_name": "Python 3"
    },
    "language_info": {
      "name": "python"
    }
  },
  "cells": [
    {
      "cell_type": "markdown",
      "source": [
        "Dataset is provided in terms of Kaggle competition https://www.kaggle.com/competitions/house-prices-advanced-regression-techniques/data"
      ],
      "metadata": {
        "id": "_zMri8U6UPf-"
      }
    },
    {
      "cell_type": "markdown",
      "source": [
        "#**Load the dataset**"
      ],
      "metadata": {
        "id": "zuyfFwKBWom_"
      }
    },
    {
      "cell_type": "code",
      "execution_count": 207,
      "metadata": {
        "id": "HLtPeV2RT3a9"
      },
      "outputs": [],
      "source": [
        "from google.colab import drive\n",
        "import pandas as pd"
      ]
    },
    {
      "cell_type": "code",
      "source": [
        "drive.mount('/content/gdrive/')\n",
        "data = pd.read_csv(r\"/content/gdrive/My Drive/Datasets/train_housing.csv\", header = 0, sep=',')"
      ],
      "metadata": {
        "colab": {
          "base_uri": "https://localhost:8080/"
        },
        "id": "IKpv8esqWn3D",
        "outputId": "b3799184-875a-415f-de6e-8615a45845f2"
      },
      "execution_count": 208,
      "outputs": [
        {
          "output_type": "stream",
          "name": "stdout",
          "text": [
            "Drive already mounted at /content/gdrive/; to attempt to forcibly remount, call drive.mount(\"/content/gdrive/\", force_remount=True).\n"
          ]
        }
      ]
    },
    {
      "cell_type": "markdown",
      "source": [
        "The dataset consists of 1460 observations and 81 columns (79 features)."
      ],
      "metadata": {
        "id": "VpAaUDeBYHkK"
      }
    },
    {
      "cell_type": "code",
      "source": [
        "data.shape"
      ],
      "metadata": {
        "colab": {
          "base_uri": "https://localhost:8080/"
        },
        "id": "WD9hl6zhXJwQ",
        "outputId": "6949a365-7d91-4a95-f705-ae1aa174a119"
      },
      "execution_count": 209,
      "outputs": [
        {
          "output_type": "execute_result",
          "data": {
            "text/plain": [
              "(1460, 81)"
            ]
          },
          "metadata": {},
          "execution_count": 209
        }
      ]
    },
    {
      "cell_type": "markdown",
      "source": [
        "The column Id is not necessary for the survey."
      ],
      "metadata": {
        "id": "sdaOHOefYiKb"
      }
    },
    {
      "cell_type": "code",
      "source": [
        "data.drop('Id', inplace=True, axis=1)"
      ],
      "metadata": {
        "id": "llpByFC4Yh2Y"
      },
      "execution_count": 210,
      "outputs": []
    },
    {
      "cell_type": "code",
      "source": [
        "data"
      ],
      "metadata": {
        "colab": {
          "base_uri": "https://localhost:8080/",
          "height": 443
        },
        "id": "1FxHbiaEbFab",
        "outputId": "390e0e42-0608-4238-ba0c-c8dd55347894"
      },
      "execution_count": 211,
      "outputs": [
        {
          "output_type": "execute_result",
          "data": {
            "text/plain": [
              "      MSSubClass MSZoning  LotFrontage  LotArea Street Alley LotShape  \\\n",
              "0             60       RL         65.0     8450   Pave   NaN      Reg   \n",
              "1             20       RL         80.0     9600   Pave   NaN      Reg   \n",
              "2             60       RL         68.0    11250   Pave   NaN      IR1   \n",
              "3             70       RL         60.0     9550   Pave   NaN      IR1   \n",
              "4             60       RL         84.0    14260   Pave   NaN      IR1   \n",
              "...          ...      ...          ...      ...    ...   ...      ...   \n",
              "1455          60       RL         62.0     7917   Pave   NaN      Reg   \n",
              "1456          20       RL         85.0    13175   Pave   NaN      Reg   \n",
              "1457          70       RL         66.0     9042   Pave   NaN      Reg   \n",
              "1458          20       RL         68.0     9717   Pave   NaN      Reg   \n",
              "1459          20       RL         75.0     9937   Pave   NaN      Reg   \n",
              "\n",
              "     LandContour Utilities LotConfig  ... PoolArea PoolQC  Fence MiscFeature  \\\n",
              "0            Lvl    AllPub    Inside  ...        0    NaN    NaN         NaN   \n",
              "1            Lvl    AllPub       FR2  ...        0    NaN    NaN         NaN   \n",
              "2            Lvl    AllPub    Inside  ...        0    NaN    NaN         NaN   \n",
              "3            Lvl    AllPub    Corner  ...        0    NaN    NaN         NaN   \n",
              "4            Lvl    AllPub       FR2  ...        0    NaN    NaN         NaN   \n",
              "...          ...       ...       ...  ...      ...    ...    ...         ...   \n",
              "1455         Lvl    AllPub    Inside  ...        0    NaN    NaN         NaN   \n",
              "1456         Lvl    AllPub    Inside  ...        0    NaN  MnPrv         NaN   \n",
              "1457         Lvl    AllPub    Inside  ...        0    NaN  GdPrv        Shed   \n",
              "1458         Lvl    AllPub    Inside  ...        0    NaN    NaN         NaN   \n",
              "1459         Lvl    AllPub    Inside  ...        0    NaN    NaN         NaN   \n",
              "\n",
              "     MiscVal MoSold  YrSold  SaleType  SaleCondition  SalePrice  \n",
              "0          0      2    2008        WD         Normal     208500  \n",
              "1          0      5    2007        WD         Normal     181500  \n",
              "2          0      9    2008        WD         Normal     223500  \n",
              "3          0      2    2006        WD        Abnorml     140000  \n",
              "4          0     12    2008        WD         Normal     250000  \n",
              "...      ...    ...     ...       ...            ...        ...  \n",
              "1455       0      8    2007        WD         Normal     175000  \n",
              "1456       0      2    2010        WD         Normal     210000  \n",
              "1457    2500      5    2010        WD         Normal     266500  \n",
              "1458       0      4    2010        WD         Normal     142125  \n",
              "1459       0      6    2008        WD         Normal     147500  \n",
              "\n",
              "[1460 rows x 80 columns]"
            ],
            "text/html": [
              "\n",
              "  <div id=\"df-aea9fd2d-1497-42d3-93b8-7b899f738bf4\" class=\"colab-df-container\">\n",
              "    <div>\n",
              "<style scoped>\n",
              "    .dataframe tbody tr th:only-of-type {\n",
              "        vertical-align: middle;\n",
              "    }\n",
              "\n",
              "    .dataframe tbody tr th {\n",
              "        vertical-align: top;\n",
              "    }\n",
              "\n",
              "    .dataframe thead th {\n",
              "        text-align: right;\n",
              "    }\n",
              "</style>\n",
              "<table border=\"1\" class=\"dataframe\">\n",
              "  <thead>\n",
              "    <tr style=\"text-align: right;\">\n",
              "      <th></th>\n",
              "      <th>MSSubClass</th>\n",
              "      <th>MSZoning</th>\n",
              "      <th>LotFrontage</th>\n",
              "      <th>LotArea</th>\n",
              "      <th>Street</th>\n",
              "      <th>Alley</th>\n",
              "      <th>LotShape</th>\n",
              "      <th>LandContour</th>\n",
              "      <th>Utilities</th>\n",
              "      <th>LotConfig</th>\n",
              "      <th>...</th>\n",
              "      <th>PoolArea</th>\n",
              "      <th>PoolQC</th>\n",
              "      <th>Fence</th>\n",
              "      <th>MiscFeature</th>\n",
              "      <th>MiscVal</th>\n",
              "      <th>MoSold</th>\n",
              "      <th>YrSold</th>\n",
              "      <th>SaleType</th>\n",
              "      <th>SaleCondition</th>\n",
              "      <th>SalePrice</th>\n",
              "    </tr>\n",
              "  </thead>\n",
              "  <tbody>\n",
              "    <tr>\n",
              "      <th>0</th>\n",
              "      <td>60</td>\n",
              "      <td>RL</td>\n",
              "      <td>65.0</td>\n",
              "      <td>8450</td>\n",
              "      <td>Pave</td>\n",
              "      <td>NaN</td>\n",
              "      <td>Reg</td>\n",
              "      <td>Lvl</td>\n",
              "      <td>AllPub</td>\n",
              "      <td>Inside</td>\n",
              "      <td>...</td>\n",
              "      <td>0</td>\n",
              "      <td>NaN</td>\n",
              "      <td>NaN</td>\n",
              "      <td>NaN</td>\n",
              "      <td>0</td>\n",
              "      <td>2</td>\n",
              "      <td>2008</td>\n",
              "      <td>WD</td>\n",
              "      <td>Normal</td>\n",
              "      <td>208500</td>\n",
              "    </tr>\n",
              "    <tr>\n",
              "      <th>1</th>\n",
              "      <td>20</td>\n",
              "      <td>RL</td>\n",
              "      <td>80.0</td>\n",
              "      <td>9600</td>\n",
              "      <td>Pave</td>\n",
              "      <td>NaN</td>\n",
              "      <td>Reg</td>\n",
              "      <td>Lvl</td>\n",
              "      <td>AllPub</td>\n",
              "      <td>FR2</td>\n",
              "      <td>...</td>\n",
              "      <td>0</td>\n",
              "      <td>NaN</td>\n",
              "      <td>NaN</td>\n",
              "      <td>NaN</td>\n",
              "      <td>0</td>\n",
              "      <td>5</td>\n",
              "      <td>2007</td>\n",
              "      <td>WD</td>\n",
              "      <td>Normal</td>\n",
              "      <td>181500</td>\n",
              "    </tr>\n",
              "    <tr>\n",
              "      <th>2</th>\n",
              "      <td>60</td>\n",
              "      <td>RL</td>\n",
              "      <td>68.0</td>\n",
              "      <td>11250</td>\n",
              "      <td>Pave</td>\n",
              "      <td>NaN</td>\n",
              "      <td>IR1</td>\n",
              "      <td>Lvl</td>\n",
              "      <td>AllPub</td>\n",
              "      <td>Inside</td>\n",
              "      <td>...</td>\n",
              "      <td>0</td>\n",
              "      <td>NaN</td>\n",
              "      <td>NaN</td>\n",
              "      <td>NaN</td>\n",
              "      <td>0</td>\n",
              "      <td>9</td>\n",
              "      <td>2008</td>\n",
              "      <td>WD</td>\n",
              "      <td>Normal</td>\n",
              "      <td>223500</td>\n",
              "    </tr>\n",
              "    <tr>\n",
              "      <th>3</th>\n",
              "      <td>70</td>\n",
              "      <td>RL</td>\n",
              "      <td>60.0</td>\n",
              "      <td>9550</td>\n",
              "      <td>Pave</td>\n",
              "      <td>NaN</td>\n",
              "      <td>IR1</td>\n",
              "      <td>Lvl</td>\n",
              "      <td>AllPub</td>\n",
              "      <td>Corner</td>\n",
              "      <td>...</td>\n",
              "      <td>0</td>\n",
              "      <td>NaN</td>\n",
              "      <td>NaN</td>\n",
              "      <td>NaN</td>\n",
              "      <td>0</td>\n",
              "      <td>2</td>\n",
              "      <td>2006</td>\n",
              "      <td>WD</td>\n",
              "      <td>Abnorml</td>\n",
              "      <td>140000</td>\n",
              "    </tr>\n",
              "    <tr>\n",
              "      <th>4</th>\n",
              "      <td>60</td>\n",
              "      <td>RL</td>\n",
              "      <td>84.0</td>\n",
              "      <td>14260</td>\n",
              "      <td>Pave</td>\n",
              "      <td>NaN</td>\n",
              "      <td>IR1</td>\n",
              "      <td>Lvl</td>\n",
              "      <td>AllPub</td>\n",
              "      <td>FR2</td>\n",
              "      <td>...</td>\n",
              "      <td>0</td>\n",
              "      <td>NaN</td>\n",
              "      <td>NaN</td>\n",
              "      <td>NaN</td>\n",
              "      <td>0</td>\n",
              "      <td>12</td>\n",
              "      <td>2008</td>\n",
              "      <td>WD</td>\n",
              "      <td>Normal</td>\n",
              "      <td>250000</td>\n",
              "    </tr>\n",
              "    <tr>\n",
              "      <th>...</th>\n",
              "      <td>...</td>\n",
              "      <td>...</td>\n",
              "      <td>...</td>\n",
              "      <td>...</td>\n",
              "      <td>...</td>\n",
              "      <td>...</td>\n",
              "      <td>...</td>\n",
              "      <td>...</td>\n",
              "      <td>...</td>\n",
              "      <td>...</td>\n",
              "      <td>...</td>\n",
              "      <td>...</td>\n",
              "      <td>...</td>\n",
              "      <td>...</td>\n",
              "      <td>...</td>\n",
              "      <td>...</td>\n",
              "      <td>...</td>\n",
              "      <td>...</td>\n",
              "      <td>...</td>\n",
              "      <td>...</td>\n",
              "      <td>...</td>\n",
              "    </tr>\n",
              "    <tr>\n",
              "      <th>1455</th>\n",
              "      <td>60</td>\n",
              "      <td>RL</td>\n",
              "      <td>62.0</td>\n",
              "      <td>7917</td>\n",
              "      <td>Pave</td>\n",
              "      <td>NaN</td>\n",
              "      <td>Reg</td>\n",
              "      <td>Lvl</td>\n",
              "      <td>AllPub</td>\n",
              "      <td>Inside</td>\n",
              "      <td>...</td>\n",
              "      <td>0</td>\n",
              "      <td>NaN</td>\n",
              "      <td>NaN</td>\n",
              "      <td>NaN</td>\n",
              "      <td>0</td>\n",
              "      <td>8</td>\n",
              "      <td>2007</td>\n",
              "      <td>WD</td>\n",
              "      <td>Normal</td>\n",
              "      <td>175000</td>\n",
              "    </tr>\n",
              "    <tr>\n",
              "      <th>1456</th>\n",
              "      <td>20</td>\n",
              "      <td>RL</td>\n",
              "      <td>85.0</td>\n",
              "      <td>13175</td>\n",
              "      <td>Pave</td>\n",
              "      <td>NaN</td>\n",
              "      <td>Reg</td>\n",
              "      <td>Lvl</td>\n",
              "      <td>AllPub</td>\n",
              "      <td>Inside</td>\n",
              "      <td>...</td>\n",
              "      <td>0</td>\n",
              "      <td>NaN</td>\n",
              "      <td>MnPrv</td>\n",
              "      <td>NaN</td>\n",
              "      <td>0</td>\n",
              "      <td>2</td>\n",
              "      <td>2010</td>\n",
              "      <td>WD</td>\n",
              "      <td>Normal</td>\n",
              "      <td>210000</td>\n",
              "    </tr>\n",
              "    <tr>\n",
              "      <th>1457</th>\n",
              "      <td>70</td>\n",
              "      <td>RL</td>\n",
              "      <td>66.0</td>\n",
              "      <td>9042</td>\n",
              "      <td>Pave</td>\n",
              "      <td>NaN</td>\n",
              "      <td>Reg</td>\n",
              "      <td>Lvl</td>\n",
              "      <td>AllPub</td>\n",
              "      <td>Inside</td>\n",
              "      <td>...</td>\n",
              "      <td>0</td>\n",
              "      <td>NaN</td>\n",
              "      <td>GdPrv</td>\n",
              "      <td>Shed</td>\n",
              "      <td>2500</td>\n",
              "      <td>5</td>\n",
              "      <td>2010</td>\n",
              "      <td>WD</td>\n",
              "      <td>Normal</td>\n",
              "      <td>266500</td>\n",
              "    </tr>\n",
              "    <tr>\n",
              "      <th>1458</th>\n",
              "      <td>20</td>\n",
              "      <td>RL</td>\n",
              "      <td>68.0</td>\n",
              "      <td>9717</td>\n",
              "      <td>Pave</td>\n",
              "      <td>NaN</td>\n",
              "      <td>Reg</td>\n",
              "      <td>Lvl</td>\n",
              "      <td>AllPub</td>\n",
              "      <td>Inside</td>\n",
              "      <td>...</td>\n",
              "      <td>0</td>\n",
              "      <td>NaN</td>\n",
              "      <td>NaN</td>\n",
              "      <td>NaN</td>\n",
              "      <td>0</td>\n",
              "      <td>4</td>\n",
              "      <td>2010</td>\n",
              "      <td>WD</td>\n",
              "      <td>Normal</td>\n",
              "      <td>142125</td>\n",
              "    </tr>\n",
              "    <tr>\n",
              "      <th>1459</th>\n",
              "      <td>20</td>\n",
              "      <td>RL</td>\n",
              "      <td>75.0</td>\n",
              "      <td>9937</td>\n",
              "      <td>Pave</td>\n",
              "      <td>NaN</td>\n",
              "      <td>Reg</td>\n",
              "      <td>Lvl</td>\n",
              "      <td>AllPub</td>\n",
              "      <td>Inside</td>\n",
              "      <td>...</td>\n",
              "      <td>0</td>\n",
              "      <td>NaN</td>\n",
              "      <td>NaN</td>\n",
              "      <td>NaN</td>\n",
              "      <td>0</td>\n",
              "      <td>6</td>\n",
              "      <td>2008</td>\n",
              "      <td>WD</td>\n",
              "      <td>Normal</td>\n",
              "      <td>147500</td>\n",
              "    </tr>\n",
              "  </tbody>\n",
              "</table>\n",
              "<p>1460 rows × 80 columns</p>\n",
              "</div>\n",
              "    <div class=\"colab-df-buttons\">\n",
              "\n",
              "  <div class=\"colab-df-container\">\n",
              "    <button class=\"colab-df-convert\" onclick=\"convertToInteractive('df-aea9fd2d-1497-42d3-93b8-7b899f738bf4')\"\n",
              "            title=\"Convert this dataframe to an interactive table.\"\n",
              "            style=\"display:none;\">\n",
              "\n",
              "  <svg xmlns=\"http://www.w3.org/2000/svg\" height=\"24px\" viewBox=\"0 -960 960 960\">\n",
              "    <path d=\"M120-120v-720h720v720H120Zm60-500h600v-160H180v160Zm220 220h160v-160H400v160Zm0 220h160v-160H400v160ZM180-400h160v-160H180v160Zm440 0h160v-160H620v160ZM180-180h160v-160H180v160Zm440 0h160v-160H620v160Z\"/>\n",
              "  </svg>\n",
              "    </button>\n",
              "\n",
              "  <style>\n",
              "    .colab-df-container {\n",
              "      display:flex;\n",
              "      gap: 12px;\n",
              "    }\n",
              "\n",
              "    .colab-df-convert {\n",
              "      background-color: #E8F0FE;\n",
              "      border: none;\n",
              "      border-radius: 50%;\n",
              "      cursor: pointer;\n",
              "      display: none;\n",
              "      fill: #1967D2;\n",
              "      height: 32px;\n",
              "      padding: 0 0 0 0;\n",
              "      width: 32px;\n",
              "    }\n",
              "\n",
              "    .colab-df-convert:hover {\n",
              "      background-color: #E2EBFA;\n",
              "      box-shadow: 0px 1px 2px rgba(60, 64, 67, 0.3), 0px 1px 3px 1px rgba(60, 64, 67, 0.15);\n",
              "      fill: #174EA6;\n",
              "    }\n",
              "\n",
              "    .colab-df-buttons div {\n",
              "      margin-bottom: 4px;\n",
              "    }\n",
              "\n",
              "    [theme=dark] .colab-df-convert {\n",
              "      background-color: #3B4455;\n",
              "      fill: #D2E3FC;\n",
              "    }\n",
              "\n",
              "    [theme=dark] .colab-df-convert:hover {\n",
              "      background-color: #434B5C;\n",
              "      box-shadow: 0px 1px 3px 1px rgba(0, 0, 0, 0.15);\n",
              "      filter: drop-shadow(0px 1px 2px rgba(0, 0, 0, 0.3));\n",
              "      fill: #FFFFFF;\n",
              "    }\n",
              "  </style>\n",
              "\n",
              "    <script>\n",
              "      const buttonEl =\n",
              "        document.querySelector('#df-aea9fd2d-1497-42d3-93b8-7b899f738bf4 button.colab-df-convert');\n",
              "      buttonEl.style.display =\n",
              "        google.colab.kernel.accessAllowed ? 'block' : 'none';\n",
              "\n",
              "      async function convertToInteractive(key) {\n",
              "        const element = document.querySelector('#df-aea9fd2d-1497-42d3-93b8-7b899f738bf4');\n",
              "        const dataTable =\n",
              "          await google.colab.kernel.invokeFunction('convertToInteractive',\n",
              "                                                    [key], {});\n",
              "        if (!dataTable) return;\n",
              "\n",
              "        const docLinkHtml = 'Like what you see? Visit the ' +\n",
              "          '<a target=\"_blank\" href=https://colab.research.google.com/notebooks/data_table.ipynb>data table notebook</a>'\n",
              "          + ' to learn more about interactive tables.';\n",
              "        element.innerHTML = '';\n",
              "        dataTable['output_type'] = 'display_data';\n",
              "        await google.colab.output.renderOutput(dataTable, element);\n",
              "        const docLink = document.createElement('div');\n",
              "        docLink.innerHTML = docLinkHtml;\n",
              "        element.appendChild(docLink);\n",
              "      }\n",
              "    </script>\n",
              "  </div>\n",
              "\n",
              "\n",
              "<div id=\"df-26bfcb9c-0a60-4c20-95b8-21dd9637d320\">\n",
              "  <button class=\"colab-df-quickchart\" onclick=\"quickchart('df-26bfcb9c-0a60-4c20-95b8-21dd9637d320')\"\n",
              "            title=\"Suggest charts\"\n",
              "            style=\"display:none;\">\n",
              "\n",
              "<svg xmlns=\"http://www.w3.org/2000/svg\" height=\"24px\"viewBox=\"0 0 24 24\"\n",
              "     width=\"24px\">\n",
              "    <g>\n",
              "        <path d=\"M19 3H5c-1.1 0-2 .9-2 2v14c0 1.1.9 2 2 2h14c1.1 0 2-.9 2-2V5c0-1.1-.9-2-2-2zM9 17H7v-7h2v7zm4 0h-2V7h2v10zm4 0h-2v-4h2v4z\"/>\n",
              "    </g>\n",
              "</svg>\n",
              "  </button>\n",
              "\n",
              "<style>\n",
              "  .colab-df-quickchart {\n",
              "      --bg-color: #E8F0FE;\n",
              "      --fill-color: #1967D2;\n",
              "      --hover-bg-color: #E2EBFA;\n",
              "      --hover-fill-color: #174EA6;\n",
              "      --disabled-fill-color: #AAA;\n",
              "      --disabled-bg-color: #DDD;\n",
              "  }\n",
              "\n",
              "  [theme=dark] .colab-df-quickchart {\n",
              "      --bg-color: #3B4455;\n",
              "      --fill-color: #D2E3FC;\n",
              "      --hover-bg-color: #434B5C;\n",
              "      --hover-fill-color: #FFFFFF;\n",
              "      --disabled-bg-color: #3B4455;\n",
              "      --disabled-fill-color: #666;\n",
              "  }\n",
              "\n",
              "  .colab-df-quickchart {\n",
              "    background-color: var(--bg-color);\n",
              "    border: none;\n",
              "    border-radius: 50%;\n",
              "    cursor: pointer;\n",
              "    display: none;\n",
              "    fill: var(--fill-color);\n",
              "    height: 32px;\n",
              "    padding: 0;\n",
              "    width: 32px;\n",
              "  }\n",
              "\n",
              "  .colab-df-quickchart:hover {\n",
              "    background-color: var(--hover-bg-color);\n",
              "    box-shadow: 0 1px 2px rgba(60, 64, 67, 0.3), 0 1px 3px 1px rgba(60, 64, 67, 0.15);\n",
              "    fill: var(--button-hover-fill-color);\n",
              "  }\n",
              "\n",
              "  .colab-df-quickchart-complete:disabled,\n",
              "  .colab-df-quickchart-complete:disabled:hover {\n",
              "    background-color: var(--disabled-bg-color);\n",
              "    fill: var(--disabled-fill-color);\n",
              "    box-shadow: none;\n",
              "  }\n",
              "\n",
              "  .colab-df-spinner {\n",
              "    border: 2px solid var(--fill-color);\n",
              "    border-color: transparent;\n",
              "    border-bottom-color: var(--fill-color);\n",
              "    animation:\n",
              "      spin 1s steps(1) infinite;\n",
              "  }\n",
              "\n",
              "  @keyframes spin {\n",
              "    0% {\n",
              "      border-color: transparent;\n",
              "      border-bottom-color: var(--fill-color);\n",
              "      border-left-color: var(--fill-color);\n",
              "    }\n",
              "    20% {\n",
              "      border-color: transparent;\n",
              "      border-left-color: var(--fill-color);\n",
              "      border-top-color: var(--fill-color);\n",
              "    }\n",
              "    30% {\n",
              "      border-color: transparent;\n",
              "      border-left-color: var(--fill-color);\n",
              "      border-top-color: var(--fill-color);\n",
              "      border-right-color: var(--fill-color);\n",
              "    }\n",
              "    40% {\n",
              "      border-color: transparent;\n",
              "      border-right-color: var(--fill-color);\n",
              "      border-top-color: var(--fill-color);\n",
              "    }\n",
              "    60% {\n",
              "      border-color: transparent;\n",
              "      border-right-color: var(--fill-color);\n",
              "    }\n",
              "    80% {\n",
              "      border-color: transparent;\n",
              "      border-right-color: var(--fill-color);\n",
              "      border-bottom-color: var(--fill-color);\n",
              "    }\n",
              "    90% {\n",
              "      border-color: transparent;\n",
              "      border-bottom-color: var(--fill-color);\n",
              "    }\n",
              "  }\n",
              "</style>\n",
              "\n",
              "  <script>\n",
              "    async function quickchart(key) {\n",
              "      const quickchartButtonEl =\n",
              "        document.querySelector('#' + key + ' button');\n",
              "      quickchartButtonEl.disabled = true;  // To prevent multiple clicks.\n",
              "      quickchartButtonEl.classList.add('colab-df-spinner');\n",
              "      try {\n",
              "        const charts = await google.colab.kernel.invokeFunction(\n",
              "            'suggestCharts', [key], {});\n",
              "      } catch (error) {\n",
              "        console.error('Error during call to suggestCharts:', error);\n",
              "      }\n",
              "      quickchartButtonEl.classList.remove('colab-df-spinner');\n",
              "      quickchartButtonEl.classList.add('colab-df-quickchart-complete');\n",
              "    }\n",
              "    (() => {\n",
              "      let quickchartButtonEl =\n",
              "        document.querySelector('#df-26bfcb9c-0a60-4c20-95b8-21dd9637d320 button');\n",
              "      quickchartButtonEl.style.display =\n",
              "        google.colab.kernel.accessAllowed ? 'block' : 'none';\n",
              "    })();\n",
              "  </script>\n",
              "</div>\n",
              "    </div>\n",
              "  </div>\n"
            ],
            "application/vnd.google.colaboratory.intrinsic+json": {
              "type": "dataframe",
              "variable_name": "data"
            }
          },
          "metadata": {},
          "execution_count": 211
        }
      ]
    },
    {
      "cell_type": "markdown",
      "source": [
        "It is important to check the type of features presented."
      ],
      "metadata": {
        "id": "QD4AluQObMtY"
      }
    },
    {
      "cell_type": "code",
      "source": [
        "data.info()"
      ],
      "metadata": {
        "colab": {
          "base_uri": "https://localhost:8080/"
        },
        "id": "rd-1AuN0dPJo",
        "outputId": "e08ca683-a475-40be-ca7d-673db8f3b21d"
      },
      "execution_count": 212,
      "outputs": [
        {
          "output_type": "stream",
          "name": "stdout",
          "text": [
            "<class 'pandas.core.frame.DataFrame'>\n",
            "RangeIndex: 1460 entries, 0 to 1459\n",
            "Data columns (total 80 columns):\n",
            " #   Column         Non-Null Count  Dtype  \n",
            "---  ------         --------------  -----  \n",
            " 0   MSSubClass     1460 non-null   int64  \n",
            " 1   MSZoning       1460 non-null   object \n",
            " 2   LotFrontage    1201 non-null   float64\n",
            " 3   LotArea        1460 non-null   int64  \n",
            " 4   Street         1460 non-null   object \n",
            " 5   Alley          91 non-null     object \n",
            " 6   LotShape       1460 non-null   object \n",
            " 7   LandContour    1460 non-null   object \n",
            " 8   Utilities      1460 non-null   object \n",
            " 9   LotConfig      1460 non-null   object \n",
            " 10  LandSlope      1460 non-null   object \n",
            " 11  Neighborhood   1460 non-null   object \n",
            " 12  Condition1     1460 non-null   object \n",
            " 13  Condition2     1460 non-null   object \n",
            " 14  BldgType       1460 non-null   object \n",
            " 15  HouseStyle     1460 non-null   object \n",
            " 16  OverallQual    1460 non-null   int64  \n",
            " 17  OverallCond    1460 non-null   int64  \n",
            " 18  YearBuilt      1460 non-null   int64  \n",
            " 19  YearRemodAdd   1460 non-null   int64  \n",
            " 20  RoofStyle      1460 non-null   object \n",
            " 21  RoofMatl       1460 non-null   object \n",
            " 22  Exterior1st    1460 non-null   object \n",
            " 23  Exterior2nd    1460 non-null   object \n",
            " 24  MasVnrType     1452 non-null   object \n",
            " 25  MasVnrArea     1452 non-null   float64\n",
            " 26  ExterQual      1460 non-null   object \n",
            " 27  ExterCond      1460 non-null   object \n",
            " 28  Foundation     1460 non-null   object \n",
            " 29  BsmtQual       1423 non-null   object \n",
            " 30  BsmtCond       1423 non-null   object \n",
            " 31  BsmtExposure   1422 non-null   object \n",
            " 32  BsmtFinType1   1423 non-null   object \n",
            " 33  BsmtFinSF1     1460 non-null   int64  \n",
            " 34  BsmtFinType2   1422 non-null   object \n",
            " 35  BsmtFinSF2     1460 non-null   int64  \n",
            " 36  BsmtUnfSF      1460 non-null   int64  \n",
            " 37  TotalBsmtSF    1460 non-null   int64  \n",
            " 38  Heating        1460 non-null   object \n",
            " 39  HeatingQC      1460 non-null   object \n",
            " 40  CentralAir     1460 non-null   object \n",
            " 41  Electrical     1459 non-null   object \n",
            " 42  1stFlrSF       1460 non-null   int64  \n",
            " 43  2ndFlrSF       1460 non-null   int64  \n",
            " 44  LowQualFinSF   1460 non-null   int64  \n",
            " 45  GrLivArea      1460 non-null   int64  \n",
            " 46  BsmtFullBath   1460 non-null   int64  \n",
            " 47  BsmtHalfBath   1460 non-null   int64  \n",
            " 48  FullBath       1460 non-null   int64  \n",
            " 49  HalfBath       1460 non-null   int64  \n",
            " 50  BedroomAbvGr   1460 non-null   int64  \n",
            " 51  KitchenAbvGr   1460 non-null   int64  \n",
            " 52  KitchenQual    1460 non-null   object \n",
            " 53  TotRmsAbvGrd   1460 non-null   int64  \n",
            " 54  Functional     1460 non-null   object \n",
            " 55  Fireplaces     1460 non-null   int64  \n",
            " 56  FireplaceQu    770 non-null    object \n",
            " 57  GarageType     1379 non-null   object \n",
            " 58  GarageYrBlt    1379 non-null   float64\n",
            " 59  GarageFinish   1379 non-null   object \n",
            " 60  GarageCars     1460 non-null   int64  \n",
            " 61  GarageArea     1460 non-null   int64  \n",
            " 62  GarageQual     1379 non-null   object \n",
            " 63  GarageCond     1379 non-null   object \n",
            " 64  PavedDrive     1460 non-null   object \n",
            " 65  WoodDeckSF     1460 non-null   int64  \n",
            " 66  OpenPorchSF    1460 non-null   int64  \n",
            " 67  EnclosedPorch  1460 non-null   int64  \n",
            " 68  3SsnPorch      1460 non-null   int64  \n",
            " 69  ScreenPorch    1460 non-null   int64  \n",
            " 70  PoolArea       1460 non-null   int64  \n",
            " 71  PoolQC         7 non-null      object \n",
            " 72  Fence          281 non-null    object \n",
            " 73  MiscFeature    54 non-null     object \n",
            " 74  MiscVal        1460 non-null   int64  \n",
            " 75  MoSold         1460 non-null   int64  \n",
            " 76  YrSold         1460 non-null   int64  \n",
            " 77  SaleType       1460 non-null   object \n",
            " 78  SaleCondition  1460 non-null   object \n",
            " 79  SalePrice      1460 non-null   int64  \n",
            "dtypes: float64(3), int64(34), object(43)\n",
            "memory usage: 912.6+ KB\n"
          ]
        }
      ]
    },
    {
      "cell_type": "markdown",
      "source": [
        "There are 3 features with float64 type, 34 (including target) with int64 type, 43 with object"
      ],
      "metadata": {
        "id": "-xYGsCeTdWB4"
      }
    },
    {
      "cell_type": "markdown",
      "source": [
        "# **Feature distribution**"
      ],
      "metadata": {
        "id": "Rf5WlRHgTWRW"
      }
    },
    {
      "cell_type": "markdown",
      "source": [
        "Now let's check the histogram of target"
      ],
      "metadata": {
        "id": "DPBv5NhkL25e"
      }
    },
    {
      "cell_type": "code",
      "source": [
        "import seaborn as sns"
      ],
      "metadata": {
        "id": "sl11p1ykdliL"
      },
      "execution_count": 213,
      "outputs": []
    },
    {
      "cell_type": "code",
      "source": [
        "sns.histplot(data['SalePrice'])"
      ],
      "metadata": {
        "colab": {
          "base_uri": "https://localhost:8080/",
          "height": 0
        },
        "id": "hATyVm60M_38",
        "outputId": "45626890-2c55-49ce-ad7d-34b37c4d6320"
      },
      "execution_count": 214,
      "outputs": [
        {
          "output_type": "execute_result",
          "data": {
            "text/plain": [
              "<Axes: xlabel='SalePrice', ylabel='Count'>"
            ]
          },
          "metadata": {},
          "execution_count": 214
        },
        {
          "output_type": "display_data",
          "data": {
            "text/plain": [
              "<Figure size 640x480 with 1 Axes>"
            ],
            "image/png": "[encoded data removed]"
          },
          "metadata": {}
        }
      ]
    },
    {
      "cell_type": "code",
      "source": [
        "data['SalePrice'].describe()"
      ],
      "metadata": {
        "colab": {
          "base_uri": "https://localhost:8080/"
        },
        "id": "iPpL5zh-NZx1",
        "outputId": "b0e6de2b-c8e4-4b4b-bf44-4fd8b302af65"
      },
      "execution_count": 215,
      "outputs": [
        {
          "output_type": "execute_result",
          "data": {
            "text/plain": [
              "count      1460.000000\n",
              "mean     180921.195890\n",
              "std       79442.502883\n",
              "min       34900.000000\n",
              "25%      129975.000000\n",
              "50%      163000.000000\n",
              "75%      214000.000000\n",
              "max      755000.000000\n",
              "Name: SalePrice, dtype: float64"
            ]
          },
          "metadata": {},
          "execution_count": 215
        }
      ]
    },
    {
      "cell_type": "markdown",
      "source": [
        "It can be clearly seen that there are several outliers, atypical observations with target > 500000. They will be researched later. Target data has positive skewness"
      ],
      "metadata": {
        "id": "IJ1Yp2GuOp7n"
      }
    },
    {
      "cell_type": "markdown",
      "source": [
        "Now it's important to see the distribution of all numerical values of the dataset."
      ],
      "metadata": {
        "id": "KSUDejTIQLno"
      }
    },
    {
      "cell_type": "code",
      "source": [
        "data_numerical = data.select_dtypes(exclude='object')"
      ],
      "metadata": {
        "id": "AzMr88tDNhal"
      },
      "execution_count": 216,
      "outputs": []
    },
    {
      "cell_type": "code",
      "source": [
        "data_numerical.hist(figsize=(16, 25), bins=50, xlabelsize=8, ylabelsize=8)"
      ],
      "metadata": {
        "colab": {
          "base_uri": "https://localhost:8080/",
          "height": 0
        },
        "id": "7_pASCL6Q6Bg",
        "outputId": "17ca477b-71df-46e1-8110-15f051c03f01"
      },
      "execution_count": 217,
      "outputs": [
        {
          "output_type": "execute_result",
          "data": {
            "text/plain": [
              "array([[<Axes: title={'center': 'MSSubClass'}>,\n",
              "        <Axes: title={'center': 'LotFrontage'}>,\n",
              "        <Axes: title={'center': 'LotArea'}>,\n",
              "        <Axes: title={'center': 'OverallQual'}>,\n",
              "        <Axes: title={'center': 'OverallCond'}>,\n",
              "        <Axes: title={'center': 'YearBuilt'}>],\n",
              "       [<Axes: title={'center': 'YearRemodAdd'}>,\n",
              "        <Axes: title={'center': 'MasVnrArea'}>,\n",
              "        <Axes: title={'center': 'BsmtFinSF1'}>,\n",
              "        <Axes: title={'center': 'BsmtFinSF2'}>,\n",
              "        <Axes: title={'center': 'BsmtUnfSF'}>,\n",
              "        <Axes: title={'center': 'TotalBsmtSF'}>],\n",
              "       [<Axes: title={'center': '1stFlrSF'}>,\n",
              "        <Axes: title={'center': '2ndFlrSF'}>,\n",
              "        <Axes: title={'center': 'LowQualFinSF'}>,\n",
              "        <Axes: title={'center': 'GrLivArea'}>,\n",
              "        <Axes: title={'center': 'BsmtFullBath'}>,\n",
              "        <Axes: title={'center': 'BsmtHalfBath'}>],\n",
              "       [<Axes: title={'center': 'FullBath'}>,\n",
              "        <Axes: title={'center': 'HalfBath'}>,\n",
              "        <Axes: title={'center': 'BedroomAbvGr'}>,\n",
              "        <Axes: title={'center': 'KitchenAbvGr'}>,\n",
              "        <Axes: title={'center': 'TotRmsAbvGrd'}>,\n",
              "        <Axes: title={'center': 'Fireplaces'}>],\n",
              "       [<Axes: title={'center': 'GarageYrBlt'}>,\n",
              "        <Axes: title={'center': 'GarageCars'}>,\n",
              "        <Axes: title={'center': 'GarageArea'}>,\n",
              "        <Axes: title={'center': 'WoodDeckSF'}>,\n",
              "        <Axes: title={'center': 'OpenPorchSF'}>,\n",
              "        <Axes: title={'center': 'EnclosedPorch'}>],\n",
              "       [<Axes: title={'center': '3SsnPorch'}>,\n",
              "        <Axes: title={'center': 'ScreenPorch'}>,\n",
              "        <Axes: title={'center': 'PoolArea'}>,\n",
              "        <Axes: title={'center': 'MiscVal'}>,\n",
              "        <Axes: title={'center': 'MoSold'}>,\n",
              "        <Axes: title={'center': 'YrSold'}>],\n",
              "       [<Axes: title={'center': 'SalePrice'}>, <Axes: >, <Axes: >,\n",
              "        <Axes: >, <Axes: >, <Axes: >]], dtype=object)"
            ]
          },
          "metadata": {},
          "execution_count": 217
        },
        {
          "output_type": "display_data",
          "data": {
            "text/plain": [
              "<Figure size 1600x2500 with 42 Axes>"
            ],
            "image/png": "[encoded data removed]"
          },
          "metadata": {}
        }
      ]
    },
    {
      "cell_type": "markdown",
      "source": [
        "All numerical features(except categorical) have either positive or negative skewness."
      ],
      "metadata": {
        "id": "alutRmieSl4B"
      }
    },
    {
      "cell_type": "markdown",
      "source": [
        "# **Preprocessing**"
      ],
      "metadata": {
        "id": "twt51fwx397s"
      }
    },
    {
      "cell_type": "markdown",
      "source": [
        "### Divide into categorical, ordinal, date and numeric features\n"
      ],
      "metadata": {
        "id": "Bi14d2MsvjjB"
      }
    },
    {
      "cell_type": "code",
      "source": [
        "numeric = ['LotFrontage', 'LotArea', 'MasVnrArea', 'BsmtFinSF1', 'BsmtFinSF2', 'BsmtUnfSF', 'TotalBsmtSF', '1stFlrSF', '2ndFlrSF', 'LowQualFinSF', 'GrLivArea', 'GarageArea', 'WoodDeckSF', 'OpenPorchSF', 'EnclosedPorch', '3SsnPorch', 'ScreenPorch', 'PoolArea', 'MiscVal']\n",
        "ordinal = ['ExterQual',\n",
        " 'ExterCond',\n",
        " 'BsmtQual',\n",
        " 'BsmtCond',\n",
        " 'BsmtExposure',\n",
        " 'BsmtFinType1',\n",
        " 'BsmtFinType2',\n",
        " 'HeatingQC',\n",
        " 'KitchenQual',\n",
        " 'FireplaceQu',\n",
        " 'GarageFinish',\n",
        " 'GarageQual',\n",
        " 'GarageCond',\n",
        " 'PavedDrive',\n",
        " 'Fence'] #PoolQC\n",
        "date = ['YearBuilt','YearRemodAdd', 'GarageYrBlt', 'MoSold', 'YrSold']"
      ],
      "metadata": {
        "id": "fIvNRTPwvmkp"
      },
      "execution_count": 218,
      "outputs": []
    },
    {
      "cell_type": "code",
      "source": [
        "categorical = ['MSSubClass','MSZoning','Street','LotShape', 'LandContour', 'Utilities', 'LotConfig', 'LandSlope', 'Neighborhood', 'Condition1', 'Condition2',\n",
        " 'BldgType','HouseStyle','RoofStyle','RoofMatl','Exterior1st','Exterior2nd','MasVnrType', 'Foundation','Heating','CentralAir','Electrical','BsmtFullBath','BsmtHalfBath', 'FullBath','HalfBath',\n",
        " 'BedroomAbvGr','KitchenAbvGr','TotRmsAbvGrd','Functional','Fireplaces','GarageType','GarageCars','SaleType','SaleCondition',]"
      ],
      "metadata": {
        "id": "Up4VAxeGzVH1"
      },
      "execution_count": 219,
      "outputs": []
    },
    {
      "cell_type": "code",
      "source": [
        "y = data['SalePrice']"
      ],
      "metadata": {
        "id": "C9n26DBZlQNv"
      },
      "execution_count": 220,
      "outputs": []
    },
    {
      "cell_type": "code",
      "source": [
        "data.drop(['SalePrice'], axis=1, inplace=True)"
      ],
      "metadata": {
        "id": "iSAr4eOPlT5n"
      },
      "execution_count": 221,
      "outputs": []
    },
    {
      "cell_type": "markdown",
      "source": [
        "The division is made on the basis of data description (https://drive.google.com/file/d/1Zw6fX1fdF2ohHEj3teDotR0QSLmwpnpf/view?usp=sharing) and on the values ​​that the features take (they can be clearly observed from the histogram)"
      ],
      "metadata": {
        "id": "DfKsdkGbz7Fw"
      }
    },
    {
      "cell_type": "markdown",
      "source": [
        "### Missing values"
      ],
      "metadata": {
        "id": "2lsrjYH-2Ega"
      }
    },
    {
      "cell_type": "markdown",
      "source": [
        "There are missing vlaues in dataset"
      ],
      "metadata": {
        "id": "IXHyc0IApSPb"
      }
    },
    {
      "cell_type": "markdown",
      "source": [
        "Let's fix the threshold at 90 percent of missing values, such columns are not representative"
      ],
      "metadata": {
        "id": "kFPFO_sCnJ4l"
      }
    },
    {
      "cell_type": "code",
      "source": [
        "columns_with_nulls_train = data.columns[data.isnull().any()].tolist()\n",
        "columns_with_nulls_train"
      ],
      "metadata": {
        "colab": {
          "base_uri": "https://localhost:8080/"
        },
        "id": "HE6VFNy1pm14",
        "outputId": "ee3aef1f-dc90-4d82-f049-defa642fb7fb"
      },
      "execution_count": 222,
      "outputs": [
        {
          "output_type": "execute_result",
          "data": {
            "text/plain": [
              "['LotFrontage',\n",
              " 'Alley',\n",
              " 'MasVnrType',\n",
              " 'MasVnrArea',\n",
              " 'BsmtQual',\n",
              " 'BsmtCond',\n",
              " 'BsmtExposure',\n",
              " 'BsmtFinType1',\n",
              " 'BsmtFinType2',\n",
              " 'Electrical',\n",
              " 'FireplaceQu',\n",
              " 'GarageType',\n",
              " 'GarageYrBlt',\n",
              " 'GarageFinish',\n",
              " 'GarageQual',\n",
              " 'GarageCond',\n",
              " 'PoolQC',\n",
              " 'Fence',\n",
              " 'MiscFeature']"
            ]
          },
          "metadata": {},
          "execution_count": 222
        }
      ]
    },
    {
      "cell_type": "code",
      "source": [
        "def percentage_of_nan(dataset, nulls):\n",
        "  my_dict = {}\n",
        "  for column in nulls:\n",
        "    my_dict[column] = round(dataset[column].isnull().sum() * 100/dataset.shape[0], 2)\n",
        "  df = pd.DataFrame(list(my_dict.items()), columns=['Column', 'Percentage'])\n",
        "  return df"
      ],
      "metadata": {
        "id": "vkZTgKWIm-mU"
      },
      "execution_count": 223,
      "outputs": []
    },
    {
      "cell_type": "code",
      "source": [
        "clm_train = percentage_of_nan(data, columns_with_nulls_train)\n",
        "clm_train[clm_train['Percentage'] > 90]"
      ],
      "metadata": {
        "colab": {
          "base_uri": "https://localhost:8080/",
          "height": 143
        },
        "id": "H5vGkWdrooDF",
        "outputId": "8ccc60fd-7bf5-4312-f925-9064557bcf82"
      },
      "execution_count": 224,
      "outputs": [
        {
          "output_type": "execute_result",
          "data": {
            "text/plain": [
              "         Column  Percentage\n",
              "1         Alley       93.77\n",
              "16       PoolQC       99.52\n",
              "18  MiscFeature       96.30"
            ],
            "text/html": [
              "\n",
              "  <div id=\"df-349cdf76-d9e7-495d-9c2d-897ebb8e734e\" class=\"colab-df-container\">\n",
              "    <div>\n",
              "<style scoped>\n",
              "    .dataframe tbody tr th:only-of-type {\n",
              "        vertical-align: middle;\n",
              "    }\n",
              "\n",
              "    .dataframe tbody tr th {\n",
              "        vertical-align: top;\n",
              "    }\n",
              "\n",
              "    .dataframe thead th {\n",
              "        text-align: right;\n",
              "    }\n",
              "</style>\n",
              "<table border=\"1\" class=\"dataframe\">\n",
              "  <thead>\n",
              "    <tr style=\"text-align: right;\">\n",
              "      <th></th>\n",
              "      <th>Column</th>\n",
              "      <th>Percentage</th>\n",
              "    </tr>\n",
              "  </thead>\n",
              "  <tbody>\n",
              "    <tr>\n",
              "      <th>1</th>\n",
              "      <td>Alley</td>\n",
              "      <td>93.77</td>\n",
              "    </tr>\n",
              "    <tr>\n",
              "      <th>16</th>\n",
              "      <td>PoolQC</td>\n",
              "      <td>99.52</td>\n",
              "    </tr>\n",
              "    <tr>\n",
              "      <th>18</th>\n",
              "      <td>MiscFeature</td>\n",
              "      <td>96.30</td>\n",
              "    </tr>\n",
              "  </tbody>\n",
              "</table>\n",
              "</div>\n",
              "    <div class=\"colab-df-buttons\">\n",
              "\n",
              "  <div class=\"colab-df-container\">\n",
              "    <button class=\"colab-df-convert\" onclick=\"convertToInteractive('df-349cdf76-d9e7-495d-9c2d-897ebb8e734e')\"\n",
              "            title=\"Convert this dataframe to an interactive table.\"\n",
              "            style=\"display:none;\">\n",
              "\n",
              "  <svg xmlns=\"http://www.w3.org/2000/svg\" height=\"24px\" viewBox=\"0 -960 960 960\">\n",
              "    <path d=\"M120-120v-720h720v720H120Zm60-500h600v-160H180v160Zm220 220h160v-160H400v160Zm0 220h160v-160H400v160ZM180-400h160v-160H180v160Zm440 0h160v-160H620v160ZM180-180h160v-160H180v160Zm440 0h160v-160H620v160Z\"/>\n",
              "  </svg>\n",
              "    </button>\n",
              "\n",
              "  <style>\n",
              "    .colab-df-container {\n",
              "      display:flex;\n",
              "      gap: 12px;\n",
              "    }\n",
              "\n",
              "    .colab-df-convert {\n",
              "      background-color: #E8F0FE;\n",
              "      border: none;\n",
              "      border-radius: 50%;\n",
              "      cursor: pointer;\n",
              "      display: none;\n",
              "      fill: #1967D2;\n",
              "      height: 32px;\n",
              "      padding: 0 0 0 0;\n",
              "      width: 32px;\n",
              "    }\n",
              "\n",
              "    .colab-df-convert:hover {\n",
              "      background-color: #E2EBFA;\n",
              "      box-shadow: 0px 1px 2px rgba(60, 64, 67, 0.3), 0px 1px 3px 1px rgba(60, 64, 67, 0.15);\n",
              "      fill: #174EA6;\n",
              "    }\n",
              "\n",
              "    .colab-df-buttons div {\n",
              "      margin-bottom: 4px;\n",
              "    }\n",
              "\n",
              "    [theme=dark] .colab-df-convert {\n",
              "      background-color: #3B4455;\n",
              "      fill: #D2E3FC;\n",
              "    }\n",
              "\n",
              "    [theme=dark] .colab-df-convert:hover {\n",
              "      background-color: #434B5C;\n",
              "      box-shadow: 0px 1px 3px 1px rgba(0, 0, 0, 0.15);\n",
              "      filter: drop-shadow(0px 1px 2px rgba(0, 0, 0, 0.3));\n",
              "      fill: #FFFFFF;\n",
              "    }\n",
              "  </style>\n",
              "\n",
              "    <script>\n",
              "      const buttonEl =\n",
              "        document.querySelector('#df-349cdf76-d9e7-495d-9c2d-897ebb8e734e button.colab-df-convert');\n",
              "      buttonEl.style.display =\n",
              "        google.colab.kernel.accessAllowed ? 'block' : 'none';\n",
              "\n",
              "      async function convertToInteractive(key) {\n",
              "        const element = document.querySelector('#df-349cdf76-d9e7-495d-9c2d-897ebb8e734e');\n",
              "        const dataTable =\n",
              "          await google.colab.kernel.invokeFunction('convertToInteractive',\n",
              "                                                    [key], {});\n",
              "        if (!dataTable) return;\n",
              "\n",
              "        const docLinkHtml = 'Like what you see? Visit the ' +\n",
              "          '<a target=\"_blank\" href=https://colab.research.google.com/notebooks/data_table.ipynb>data table notebook</a>'\n",
              "          + ' to learn more about interactive tables.';\n",
              "        element.innerHTML = '';\n",
              "        dataTable['output_type'] = 'display_data';\n",
              "        await google.colab.output.renderOutput(dataTable, element);\n",
              "        const docLink = document.createElement('div');\n",
              "        docLink.innerHTML = docLinkHtml;\n",
              "        element.appendChild(docLink);\n",
              "      }\n",
              "    </script>\n",
              "  </div>\n",
              "\n",
              "\n",
              "<div id=\"df-d054010f-5d07-4c9c-8120-a54205cb9b20\">\n",
              "  <button class=\"colab-df-quickchart\" onclick=\"quickchart('df-d054010f-5d07-4c9c-8120-a54205cb9b20')\"\n",
              "            title=\"Suggest charts\"\n",
              "            style=\"display:none;\">\n",
              "\n",
              "<svg xmlns=\"http://www.w3.org/2000/svg\" height=\"24px\"viewBox=\"0 0 24 24\"\n",
              "     width=\"24px\">\n",
              "    <g>\n",
              "        <path d=\"M19 3H5c-1.1 0-2 .9-2 2v14c0 1.1.9 2 2 2h14c1.1 0 2-.9 2-2V5c0-1.1-.9-2-2-2zM9 17H7v-7h2v7zm4 0h-2V7h2v10zm4 0h-2v-4h2v4z\"/>\n",
              "    </g>\n",
              "</svg>\n",
              "  </button>\n",
              "\n",
              "<style>\n",
              "  .colab-df-quickchart {\n",
              "      --bg-color: #E8F0FE;\n",
              "      --fill-color: #1967D2;\n",
              "      --hover-bg-color: #E2EBFA;\n",
              "      --hover-fill-color: #174EA6;\n",
              "      --disabled-fill-color: #AAA;\n",
              "      --disabled-bg-color: #DDD;\n",
              "  }\n",
              "\n",
              "  [theme=dark] .colab-df-quickchart {\n",
              "      --bg-color: #3B4455;\n",
              "      --fill-color: #D2E3FC;\n",
              "      --hover-bg-color: #434B5C;\n",
              "      --hover-fill-color: #FFFFFF;\n",
              "      --disabled-bg-color: #3B4455;\n",
              "      --disabled-fill-color: #666;\n",
              "  }\n",
              "\n",
              "  .colab-df-quickchart {\n",
              "    background-color: var(--bg-color);\n",
              "    border: none;\n",
              "    border-radius: 50%;\n",
              "    cursor: pointer;\n",
              "    display: none;\n",
              "    fill: var(--fill-color);\n",
              "    height: 32px;\n",
              "    padding: 0;\n",
              "    width: 32px;\n",
              "  }\n",
              "\n",
              "  .colab-df-quickchart:hover {\n",
              "    background-color: var(--hover-bg-color);\n",
              "    box-shadow: 0 1px 2px rgba(60, 64, 67, 0.3), 0 1px 3px 1px rgba(60, 64, 67, 0.15);\n",
              "    fill: var(--button-hover-fill-color);\n",
              "  }\n",
              "\n",
              "  .colab-df-quickchart-complete:disabled,\n",
              "  .colab-df-quickchart-complete:disabled:hover {\n",
              "    background-color: var(--disabled-bg-color);\n",
              "    fill: var(--disabled-fill-color);\n",
              "    box-shadow: none;\n",
              "  }\n",
              "\n",
              "  .colab-df-spinner {\n",
              "    border: 2px solid var(--fill-color);\n",
              "    border-color: transparent;\n",
              "    border-bottom-color: var(--fill-color);\n",
              "    animation:\n",
              "      spin 1s steps(1) infinite;\n",
              "  }\n",
              "\n",
              "  @keyframes spin {\n",
              "    0% {\n",
              "      border-color: transparent;\n",
              "      border-bottom-color: var(--fill-color);\n",
              "      border-left-color: var(--fill-color);\n",
              "    }\n",
              "    20% {\n",
              "      border-color: transparent;\n",
              "      border-left-color: var(--fill-color);\n",
              "      border-top-color: var(--fill-color);\n",
              "    }\n",
              "    30% {\n",
              "      border-color: transparent;\n",
              "      border-left-color: var(--fill-color);\n",
              "      border-top-color: var(--fill-color);\n",
              "      border-right-color: var(--fill-color);\n",
              "    }\n",
              "    40% {\n",
              "      border-color: transparent;\n",
              "      border-right-color: var(--fill-color);\n",
              "      border-top-color: var(--fill-color);\n",
              "    }\n",
              "    60% {\n",
              "      border-color: transparent;\n",
              "      border-right-color: var(--fill-color);\n",
              "    }\n",
              "    80% {\n",
              "      border-color: transparent;\n",
              "      border-right-color: var(--fill-color);\n",
              "      border-bottom-color: var(--fill-color);\n",
              "    }\n",
              "    90% {\n",
              "      border-color: transparent;\n",
              "      border-bottom-color: var(--fill-color);\n",
              "    }\n",
              "  }\n",
              "</style>\n",
              "\n",
              "  <script>\n",
              "    async function quickchart(key) {\n",
              "      const quickchartButtonEl =\n",
              "        document.querySelector('#' + key + ' button');\n",
              "      quickchartButtonEl.disabled = true;  // To prevent multiple clicks.\n",
              "      quickchartButtonEl.classList.add('colab-df-spinner');\n",
              "      try {\n",
              "        const charts = await google.colab.kernel.invokeFunction(\n",
              "            'suggestCharts', [key], {});\n",
              "      } catch (error) {\n",
              "        console.error('Error during call to suggestCharts:', error);\n",
              "      }\n",
              "      quickchartButtonEl.classList.remove('colab-df-spinner');\n",
              "      quickchartButtonEl.classList.add('colab-df-quickchart-complete');\n",
              "    }\n",
              "    (() => {\n",
              "      let quickchartButtonEl =\n",
              "        document.querySelector('#df-d054010f-5d07-4c9c-8120-a54205cb9b20 button');\n",
              "      quickchartButtonEl.style.display =\n",
              "        google.colab.kernel.accessAllowed ? 'block' : 'none';\n",
              "    })();\n",
              "  </script>\n",
              "</div>\n",
              "    </div>\n",
              "  </div>\n"
            ],
            "application/vnd.google.colaboratory.intrinsic+json": {
              "type": "dataframe",
              "summary": "{\n  \"name\": \"clm_train[clm_train['Percentage'] > 90]\",\n  \"rows\": 3,\n  \"fields\": [\n    {\n      \"column\": \"Column\",\n      \"properties\": {\n        \"dtype\": \"string\",\n        \"num_unique_values\": 3,\n        \"samples\": [\n          \"Alley\",\n          \"PoolQC\",\n          \"MiscFeature\"\n        ],\n        \"semantic_type\": \"\",\n        \"description\": \"\"\n      }\n    },\n    {\n      \"column\": \"Percentage\",\n      \"properties\": {\n        \"dtype\": \"number\",\n        \"std\": 2.8818917398125836,\n        \"min\": 93.77,\n        \"max\": 99.52,\n        \"num_unique_values\": 3,\n        \"samples\": [\n          93.77,\n          99.52,\n          96.3\n        ],\n        \"semantic_type\": \"\",\n        \"description\": \"\"\n      }\n    }\n  ]\n}"
            }
          },
          "metadata": {},
          "execution_count": 224
        }
      ]
    },
    {
      "cell_type": "markdown",
      "source": [
        "Columns Alley, PoolQC and MiscFeature are not representative"
      ],
      "metadata": {
        "id": "rFaorx9_thVn"
      }
    },
    {
      "cell_type": "code",
      "source": [
        "data.drop(['Alley', 'PoolQC', 'MiscFeature'], axis=1, inplace=True)"
      ],
      "metadata": {
        "id": "HDrspfwEtnab"
      },
      "execution_count": 225,
      "outputs": []
    },
    {
      "cell_type": "markdown",
      "source": [
        "### Categorical data"
      ],
      "metadata": {
        "id": "pNzIuG07udVB"
      }
    },
    {
      "cell_type": "markdown",
      "source": [
        "And One-hot encoder for other columns with object types"
      ],
      "metadata": {
        "id": "FpHRf-T70nqE"
      }
    },
    {
      "cell_type": "code",
      "source": [
        "from sklearn.preprocessing import OneHotEncoder"
      ],
      "metadata": {
        "id": "hjDAYF86UiGl"
      },
      "execution_count": 226,
      "outputs": []
    },
    {
      "cell_type": "code",
      "source": [
        "encoder = OneHotEncoder(sparse_output=False, handle_unknown='ignore')\n",
        "\n",
        "encoder.fit(data[categorical+ordinal])\n",
        "\n",
        "train_encoded = encoder.transform(data[categorical+ordinal])\n",
        "\n",
        "train_encoded_df = pd.DataFrame(train_encoded, columns=encoder.get_feature_names_out(categorical+ordinal))\n",
        "\n",
        "train_preprocessed = pd.concat([data.drop(columns=categorical+ordinal), train_encoded_df], axis=1)"
      ],
      "metadata": {
        "id": "RhzFsjjRDgOV"
      },
      "execution_count": 227,
      "outputs": []
    },
    {
      "cell_type": "markdown",
      "source": [
        " ### Filling in missing values"
      ],
      "metadata": {
        "id": "MNQZso_5ZYLg"
      }
    },
    {
      "cell_type": "code",
      "source": [
        "train_preprocessed.columns[train_preprocessed.isna().any()].tolist()"
      ],
      "metadata": {
        "colab": {
          "base_uri": "https://localhost:8080/"
        },
        "id": "3bzQhwpjbOZH",
        "outputId": "5e1a046f-5737-4ac2-fec3-a338b2e9f6e0"
      },
      "execution_count": 228,
      "outputs": [
        {
          "output_type": "execute_result",
          "data": {
            "text/plain": [
              "['LotFrontage', 'MasVnrArea', 'GarageYrBlt']"
            ]
          },
          "metadata": {},
          "execution_count": 228
        }
      ]
    },
    {
      "cell_type": "code",
      "source": [
        "train_preprocessed[['LotFrontage', 'MasVnrArea', 'GarageYrBlt']] = train_preprocessed[['LotFrontage', 'MasVnrArea', 'GarageYrBlt']].fillna(train_preprocessed[['LotFrontage', 'MasVnrArea', 'GarageYrBlt']].mean())"
      ],
      "metadata": {
        "id": "1Uabxzi5a3VG"
      },
      "execution_count": 229,
      "outputs": []
    },
    {
      "cell_type": "code",
      "source": [
        "train_preprocessed.columns[train_preprocessed.isna().any()].tolist()"
      ],
      "metadata": {
        "colab": {
          "base_uri": "https://localhost:8080/"
        },
        "id": "ET5p2KCubpGG",
        "outputId": "5b3548c0-6641-4949-aed6-a7fb974931e2"
      },
      "execution_count": 230,
      "outputs": [
        {
          "output_type": "execute_result",
          "data": {
            "text/plain": [
              "[]"
            ]
          },
          "metadata": {},
          "execution_count": 230
        }
      ]
    },
    {
      "cell_type": "markdown",
      "source": [
        "# **First submission:**"
      ],
      "metadata": {
        "id": "LAs5ehS0D6II"
      }
    },
    {
      "cell_type": "markdown",
      "source": [
        "### Cross Validation"
      ],
      "metadata": {
        "id": "TbNwyd3wuhFD"
      }
    },
    {
      "cell_type": "markdown",
      "source": [
        "**The idea** is to try some popular models and then by using feature\n",
        "selection and feature engineering methods improve its performance"
      ],
      "metadata": {
        "id": "IwiOivrp4dLD"
      }
    },
    {
      "cell_type": "code",
      "source": [
        "from sklearn.ensemble import BaggingRegressor, RandomForestRegressor, GradientBoostingRegressor\n",
        "from sklearn.tree import DecisionTreeRegressor\n",
        "from sklearn.model_selection import GridSearchCV\n",
        "from sklearn.pipeline import Pipeline\n",
        "from sklearn.feature_selection import VarianceThreshold\n",
        "#добавить бустинги"
      ],
      "metadata": {
        "id": "OWPlzg0EM6F9"
      },
      "execution_count": 231,
      "outputs": []
    },
    {
      "cell_type": "markdown",
      "source": [
        "Train with cross validation to fit best parameters"
      ],
      "metadata": {
        "id": "8IZZtcb7SfCL"
      }
    },
    {
      "cell_type": "code",
      "source": [
        "base_tree = DecisionTreeRegressor(random_state=123)"
      ],
      "metadata": {
        "id": "4V9KfNFVevuF"
      },
      "execution_count": 232,
      "outputs": []
    },
    {
      "cell_type": "code",
      "source": [
        "# pipeline_rf = Pipeline([\n",
        "#     ('variance_threshold', VarianceThreshold()),\n",
        "#     ('model', RandomForestRegressor(random_state=123))\n",
        "# ])\n",
        "\n",
        "# pipeline_gb = Pipeline([\n",
        "#     ('variance_threshold', VarianceThreshold()),\n",
        "#     ('model', GradientBoostingRegressor(random_state=123))\n",
        "# ])\n",
        "\n",
        "# pipeline_bagging = Pipeline([\n",
        "#     ('variance_threshold', VarianceThreshold()),\n",
        "#     ('model', BaggingRegressor(estimator=base_tree))\n",
        "# ])\n",
        "\n",
        "# param_grid_rf = {\n",
        "#     'variance_threshold__threshold': [0, 0.1, 0.2],\n",
        "#     'model__n_estimators': [50, 100, 200],\n",
        "#     'model__max_depth': [3, 5, 7]\n",
        "# }\n",
        "\n",
        "# param_grid_gb = {\n",
        "#     'variance_threshold__threshold': [0, 0.1, 0.2],\n",
        "#     'model__n_estimators': [50, 100, 200],\n",
        "#     'model__learning_rate': [0.05, 0.1, 0.2]\n",
        "# }\n",
        "\n",
        "# param_grid_bagging = {\n",
        "#     'variance_threshold__threshold': [0, 0.1, 0.2],\n",
        "#     'model__n_estimators': [50, 100, 200]\n",
        "# }\n",
        "\n",
        "# grid_search_rf = GridSearchCV(pipeline_rf, param_grid_rf, cv=5)\n",
        "# grid_search_gb = GridSearchCV(pipeline_gb, param_grid_gb, cv=5)\n",
        "# grid_search_bagging = GridSearchCV(pipeline_bagging, param_grid_bagging, cv=5)\n",
        "\n",
        "# grid_search_rf.fit(train_preprocessed, y)\n",
        "# grid_search_gb.fit(train_preprocessed, y)\n",
        "# grid_search_bagging.fit(train_preprocessed, y)\n",
        "\n",
        "# print(\"Random Forest - Best Parameters:\", grid_search_rf.best_params_)\n",
        "# print(\"Random Forest - Best Score:\", grid_search_rf.best_score_)\n",
        "\n",
        "# print(\"Gradient Boosting - Best Parameters:\", grid_search_gb.best_params_)\n",
        "# print(\"Gradient Boosting - Best Score:\", grid_search_gb.best_score_)\n",
        "\n",
        "# print(\"Bagging - Best Parameters:\", grid_search_bagging.best_params_)\n",
        "# print(\"Bagging - Best Score:\", grid_search_bagging.best_score_)\n"
      ],
      "metadata": {
        "colab": {
          "base_uri": "https://localhost:8080/"
        },
        "id": "o_V0NuRnSkjc",
        "outputId": "4726545a-7b38-4453-cadc-cab49ac5a134"
      },
      "execution_count": 233,
      "outputs": [
        {
          "output_type": "stream",
          "name": "stdout",
          "text": [
            "Random Forest - Best Parameters: {'model__max_depth': 7, 'model__n_estimators': 200, 'variance_threshold__threshold': 0}\n",
            "Random Forest - Best Score: 0.8459780382545784\n",
            "Gradient Boosting - Best Parameters: {'model__learning_rate': 0.1, 'model__n_estimators': 200, 'variance_threshold__threshold': 0}\n",
            "Gradient Boosting - Best Score: 0.8965552386231413\n",
            "Bagging - Best Parameters: {'model__n_estimators': 200, 'variance_threshold__threshold': 0}\n",
            "Bagging - Best Score: 0.8609471719335783\n"
          ]
        }
      ]
    },
    {
      "cell_type": "markdown",
      "source": [
        "Best model is Gradient Boosting - Best Parameters: {'model__learning_rate': 0.1, 'model__n_estimators': 200, 'variance_threshold__threshold': 0}\n",
        "Gradient Boosting - Best Score: 0.8923504976049385"
      ],
      "metadata": {
        "id": "tbu8-03ob0bW"
      }
    },
    {
      "cell_type": "markdown",
      "source": [
        "## Test preprocessing"
      ],
      "metadata": {
        "id": "Fp8v7BlfhE84"
      }
    },
    {
      "cell_type": "code",
      "source": [
        "#for test dataset\n",
        "test = pd.read_csv(r\"/content/gdrive/My Drive/Datasets/test_housing.csv\", header = 0, sep=',')"
      ],
      "metadata": {
        "id": "I9nwHq8cokxK"
      },
      "execution_count": 247,
      "outputs": []
    },
    {
      "cell_type": "code",
      "source": [
        "test.drop(['Alley', 'PoolQC', 'MiscFeature'], axis=1, inplace=True)"
      ],
      "metadata": {
        "id": "naXq-8i2q-Sn"
      },
      "execution_count": 235,
      "outputs": []
    },
    {
      "cell_type": "code",
      "source": [
        "test.drop(['Id'], inplace=True, axis=1)"
      ],
      "metadata": {
        "id": "8ItRyThO66V2"
      },
      "execution_count": 236,
      "outputs": []
    },
    {
      "cell_type": "code",
      "source": [
        "test_encoded = encoder.transform(test[categorical+ordinal])\n",
        "\n",
        "test_encoded_df = pd.DataFrame(test_encoded, columns=encoder.get_feature_names_out(categorical+ordinal))\n",
        "\n",
        "test_preprocessed = pd.concat([test.drop(columns=categorical+ordinal), test_encoded_df], axis=1)"
      ],
      "metadata": {
        "id": "Gj5emTcdacnr"
      },
      "execution_count": 238,
      "outputs": []
    },
    {
      "cell_type": "code",
      "source": [
        "test_preprocessed[['LotFrontage', 'MasVnrArea', 'GarageYrBlt']] = test_preprocessed[['LotFrontage', 'MasVnrArea', 'GarageYrBlt']].fillna(test_preprocessed[['LotFrontage', 'MasVnrArea', 'GarageYrBlt']].mean())"
      ],
      "metadata": {
        "id": "cCtHf-d6rpG1"
      },
      "execution_count": 239,
      "outputs": []
    },
    {
      "cell_type": "code",
      "source": [
        "test_preprocessed.columns[test_preprocessed.isna().any()].tolist()"
      ],
      "metadata": {
        "colab": {
          "base_uri": "https://localhost:8080/"
        },
        "id": "tOEHwpenrvaK",
        "outputId": "06dfede9-55b1-45cc-a785-5e403a95eaed"
      },
      "execution_count": 240,
      "outputs": [
        {
          "output_type": "execute_result",
          "data": {
            "text/plain": [
              "['BsmtFinSF1', 'BsmtFinSF2', 'BsmtUnfSF', 'TotalBsmtSF', 'GarageArea']"
            ]
          },
          "metadata": {},
          "execution_count": 240
        }
      ]
    },
    {
      "cell_type": "code",
      "source": [
        "test_preprocessed[['BsmtFinSF1','BsmtFinSF2', 'BsmtUnfSF', 'TotalBsmtSF', 'GarageArea']] = test_preprocessed[['BsmtFinSF1','BsmtFinSF2', 'BsmtUnfSF', 'TotalBsmtSF', 'GarageArea']].fillna(test_preprocessed[['BsmtFinSF1','BsmtFinSF2', 'BsmtUnfSF', 'TotalBsmtSF', 'GarageArea']].mean())"
      ],
      "metadata": {
        "id": "-DOpd-ZYr-hs"
      },
      "execution_count": 242,
      "outputs": []
    },
    {
      "cell_type": "markdown",
      "source": [
        "##Submission"
      ],
      "metadata": {
        "id": "yn5ZgIsrhL0q"
      }
    },
    {
      "cell_type": "code",
      "source": [
        "gb = GradientBoostingRegressor(random_state=123, n_estimators=200)\n",
        "gb.fit(train_preprocessed, y)"
      ],
      "metadata": {
        "colab": {
          "base_uri": "https://localhost:8080/",
          "height": 74
        },
        "id": "r7Cf6XxDuj4x",
        "outputId": "1f6ab9db-2d1d-41e0-ffb5-fec4088c735c"
      },
      "execution_count": 244,
      "outputs": [
        {
          "output_type": "execute_result",
          "data": {
            "text/plain": [
              "GradientBoostingRegressor(n_estimators=200, random_state=123)"
            ],
            "text/html": [
              "<style>#sk-container-id-6 {color: black;background-color: white;}#sk-container-id-6 pre{padding: 0;}#sk-container-id-6 div.sk-toggleable {background-color: white;}#sk-container-id-6 label.sk-toggleable__label {cursor: pointer;display: block;width: 100%;margin-bottom: 0;padding: 0.3em;box-sizing: border-box;text-align: center;}#sk-container-id-6 label.sk-toggleable__label-arrow:before {content: \"▸\";float: left;margin-right: 0.25em;color: #696969;}#sk-container-id-6 label.sk-toggleable__label-arrow:hover:before {color: black;}#sk-container-id-6 div.sk-estimator:hover label.sk-toggleable__label-arrow:before {color: black;}#sk-container-id-6 div.sk-toggleable__content {max-height: 0;max-width: 0;overflow: hidden;text-align: left;background-color: #f0f8ff;}#sk-container-id-6 div.sk-toggleable__content pre {margin: 0.2em;color: black;border-radius: 0.25em;background-color: #f0f8ff;}#sk-container-id-6 input.sk-toggleable__control:checked~div.sk-toggleable__content {max-height: 200px;max-width: 100%;overflow: auto;}#sk-container-id-6 input.sk-toggleable__control:checked~label.sk-toggleable__label-arrow:before {content: \"▾\";}#sk-container-id-6 div.sk-estimator input.sk-toggleable__control:checked~label.sk-toggleable__label {background-color: #d4ebff;}#sk-container-id-6 div.sk-label input.sk-toggleable__control:checked~label.sk-toggleable__label {background-color: #d4ebff;}#sk-container-id-6 input.sk-hidden--visually {border: 0;clip: rect(1px 1px 1px 1px);clip: rect(1px, 1px, 1px, 1px);height: 1px;margin: -1px;overflow: hidden;padding: 0;position: absolute;width: 1px;}#sk-container-id-6 div.sk-estimator {font-family: monospace;background-color: #f0f8ff;border: 1px dotted black;border-radius: 0.25em;box-sizing: border-box;margin-bottom: 0.5em;}#sk-container-id-6 div.sk-estimator:hover {background-color: #d4ebff;}#sk-container-id-6 div.sk-parallel-item::after {content: \"\";width: 100%;border-bottom: 1px solid gray;flex-grow: 1;}#sk-container-id-6 div.sk-label:hover label.sk-toggleable__label {background-color: #d4ebff;}#sk-container-id-6 div.sk-serial::before {content: \"\";position: absolute;border-left: 1px solid gray;box-sizing: border-box;top: 0;bottom: 0;left: 50%;z-index: 0;}#sk-container-id-6 div.sk-serial {display: flex;flex-direction: column;align-items: center;background-color: white;padding-right: 0.2em;padding-left: 0.2em;position: relative;}#sk-container-id-6 div.sk-item {position: relative;z-index: 1;}#sk-container-id-6 div.sk-parallel {display: flex;align-items: stretch;justify-content: center;background-color: white;position: relative;}#sk-container-id-6 div.sk-item::before, #sk-container-id-6 div.sk-parallel-item::before {content: \"\";position: absolute;border-left: 1px solid gray;box-sizing: border-box;top: 0;bottom: 0;left: 50%;z-index: -1;}#sk-container-id-6 div.sk-parallel-item {display: flex;flex-direction: column;z-index: 1;position: relative;background-color: white;}#sk-container-id-6 div.sk-parallel-item:first-child::after {align-self: flex-end;width: 50%;}#sk-container-id-6 div.sk-parallel-item:last-child::after {align-self: flex-start;width: 50%;}#sk-container-id-6 div.sk-parallel-item:only-child::after {width: 0;}#sk-container-id-6 div.sk-dashed-wrapped {border: 1px dashed gray;margin: 0 0.4em 0.5em 0.4em;box-sizing: border-box;padding-bottom: 0.4em;background-color: white;}#sk-container-id-6 div.sk-label label {font-family: monospace;font-weight: bold;display: inline-block;line-height: 1.2em;}#sk-container-id-6 div.sk-label-container {text-align: center;}#sk-container-id-6 div.sk-container {/* jupyter's `normalize.less` sets `[hidden] { display: none; }` but bootstrap.min.css set `[hidden] { display: none !important; }` so we also need the `!important` here to be able to override the default hidden behavior on the sphinx rendered scikit-learn.org. See: https://github.com/scikit-learn/scikit-learn/issues/21755 */display: inline-block !important;position: relative;}#sk-container-id-6 div.sk-text-repr-fallback {display: none;}</style><div id=\"sk-container-id-6\" class=\"sk-top-container\"><div class=\"sk-text-repr-fallback\"><pre>GradientBoostingRegressor(n_estimators=200, random_state=123)</pre><b>In a Jupyter environment, please rerun this cell to show the HTML representation or trust the notebook. <br />On GitHub, the HTML representation is unable to render, please try loading this page with nbviewer.org.</b></div><div class=\"sk-container\" hidden><div class=\"sk-item\"><div class=\"sk-estimator sk-toggleable\"><input class=\"sk-toggleable__control sk-hidden--visually\" id=\"sk-estimator-id-6\" type=\"checkbox\" checked><label for=\"sk-estimator-id-6\" class=\"sk-toggleable__label sk-toggleable__label-arrow\">GradientBoostingRegressor</label><div class=\"sk-toggleable__content\"><pre>GradientBoostingRegressor(n_estimators=200, random_state=123)</pre></div></div></div></div></div>"
            ]
          },
          "metadata": {},
          "execution_count": 244
        }
      ]
    },
    {
      "cell_type": "code",
      "source": [
        "sample_submission = pd.read_csv(r\"/content/gdrive/My Drive/Datasets/sample_submission.csv\", header = 0, sep=',')"
      ],
      "metadata": {
        "id": "RgFMStWz6bMM"
      },
      "execution_count": 245,
      "outputs": []
    },
    {
      "cell_type": "code",
      "source": [
        "sample_submission['SalePrice'] = gb.predict(test_preprocessed)\n",
        "sample_submission.to_csv('submission.csv', index=False)"
      ],
      "metadata": {
        "id": "az5n70oj6koL"
      },
      "execution_count": 246,
      "outputs": []
    },
    {
      "cell_type": "markdown",
      "source": [
        "![image.png](data:image/png;base64,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)"
      ],
      "metadata": {
        "id": "xArHpfqrfx5j"
      }
    },
    {
      "cell_type": "markdown",
      "source": [
        "Metric used in this competition is RMSE"
      ],
      "metadata": {
        "id": "oEFAP86Hf4W7"
      }
    },
    {
      "cell_type": "markdown",
      "source": [
        "# **Feature Selection**"
      ],
      "metadata": {
        "id": "YBhps0VUThiF"
      }
    },
    {
      "cell_type": "markdown",
      "source": [
        "## Feature importances"
      ],
      "metadata": {
        "id": "tZUTbsl8muS9"
      }
    },
    {
      "cell_type": "markdown",
      "source": [
        "Models like RandomForestRegressor and GradientBoostingRegressor has attributes which indicate the importance of dataset features\n",
        "\n",
        "---\n",
        "\n"
      ],
      "metadata": {
        "id": "ag6t8chuhrZf"
      }
    },
    {
      "cell_type": "markdown",
      "source": [
        "For GradientBoostingRegressor:"
      ],
      "metadata": {
        "id": "35uMGV8KiPhC"
      }
    },
    {
      "cell_type": "code",
      "source": [
        "import seaborn as sns\n",
        "import matplotlib.pyplot as plt"
      ],
      "metadata": {
        "id": "4mRUtbkqiuTr"
      },
      "execution_count": 257,
      "outputs": []
    },
    {
      "cell_type": "code",
      "source": [
        "counts = gb.feature_importances_\n",
        "columns = gb.feature_names_in_\n",
        "feature_importance_df = pd.DataFrame({'Feature': columns, 'Importance': counts})\n",
        "feature_importance_df = feature_importance_df.sort_values(by='Importance', ascending=False)\n",
        "plt.figure(figsize=(12, 6))\n",
        "sns.barplot(x='Feature', y='Importance', data=feature_importance_df.head(10), palette='viridis')"
      ],
      "metadata": {
        "colab": {
          "base_uri": "https://localhost:8080/",
          "height": 666
        },
        "id": "DuP2Bub-hmqS",
        "outputId": "84996da2-1ebf-428c-dddf-b566fe3e1d31"
      },
      "execution_count": 265,
      "outputs": [
        {
          "output_type": "stream",
          "name": "stderr",
          "text": [
            "<ipython-input-265-001e39402a7b>:6: FutureWarning: \n",
            "\n",
            "Passing `palette` without assigning `hue` is deprecated and will be removed in v0.14.0. Assign the `x` variable to `hue` and set `legend=False` for the same effect.\n",
            "\n",
            "  sns.barplot(x='Feature', y='Importance', data=feature_importance_df.head(10), palette='viridis')\n"
          ]
        },
        {
          "output_type": "execute_result",
          "data": {
            "text/plain": [
              "<Axes: xlabel='Feature', ylabel='Importance'>"
            ]
          },
          "metadata": {},
          "execution_count": 265
        },
        {
          "output_type": "display_data",
          "data": {
            "text/plain": [
              "<Figure size 1200x600 with 1 Axes>"
            ],
            "image/png": "[encoded data removed]"
          },
          "metadata": {}
        }
      ]
    },
    {
      "cell_type": "markdown",
      "source": [
        "For RandomForestRegressor: {'model__max_depth': 7, 'model__n_estimators': 200, 'variance_threshold__threshold': 0}"
      ],
      "metadata": {
        "id": "tQIzWmuOlg1Q"
      }
    },
    {
      "cell_type": "code",
      "source": [
        "rf = RandomForestRegressor(n_estimators=200, max_depth=7, random_state=123)\n",
        "rf.fit(train_preprocessed, y)"
      ],
      "metadata": {
        "colab": {
          "base_uri": "https://localhost:8080/",
          "height": 74
        },
        "id": "J1bwZ-URlgh4",
        "outputId": "d5dd7b2b-3e01-4189-b745-403c10e376e6"
      },
      "execution_count": 264,
      "outputs": [
        {
          "output_type": "execute_result",
          "data": {
            "text/plain": [
              "RandomForestRegressor(max_depth=7, n_estimators=200, random_state=123)"
            ],
            "text/html": [
              "<style>#sk-container-id-7 {color: black;background-color: white;}#sk-container-id-7 pre{padding: 0;}#sk-container-id-7 div.sk-toggleable {background-color: white;}#sk-container-id-7 label.sk-toggleable__label {cursor: pointer;display: block;width: 100%;margin-bottom: 0;padding: 0.3em;box-sizing: border-box;text-align: center;}#sk-container-id-7 label.sk-toggleable__label-arrow:before {content: \"▸\";float: left;margin-right: 0.25em;color: #696969;}#sk-container-id-7 label.sk-toggleable__label-arrow:hover:before {color: black;}#sk-container-id-7 div.sk-estimator:hover label.sk-toggleable__label-arrow:before {color: black;}#sk-container-id-7 div.sk-toggleable__content {max-height: 0;max-width: 0;overflow: hidden;text-align: left;background-color: #f0f8ff;}#sk-container-id-7 div.sk-toggleable__content pre {margin: 0.2em;color: black;border-radius: 0.25em;background-color: #f0f8ff;}#sk-container-id-7 input.sk-toggleable__control:checked~div.sk-toggleable__content {max-height: 200px;max-width: 100%;overflow: auto;}#sk-container-id-7 input.sk-toggleable__control:checked~label.sk-toggleable__label-arrow:before {content: \"▾\";}#sk-container-id-7 div.sk-estimator input.sk-toggleable__control:checked~label.sk-toggleable__label {background-color: #d4ebff;}#sk-container-id-7 div.sk-label input.sk-toggleable__control:checked~label.sk-toggleable__label {background-color: #d4ebff;}#sk-container-id-7 input.sk-hidden--visually {border: 0;clip: rect(1px 1px 1px 1px);clip: rect(1px, 1px, 1px, 1px);height: 1px;margin: -1px;overflow: hidden;padding: 0;position: absolute;width: 1px;}#sk-container-id-7 div.sk-estimator {font-family: monospace;background-color: #f0f8ff;border: 1px dotted black;border-radius: 0.25em;box-sizing: border-box;margin-bottom: 0.5em;}#sk-container-id-7 div.sk-estimator:hover {background-color: #d4ebff;}#sk-container-id-7 div.sk-parallel-item::after {content: \"\";width: 100%;border-bottom: 1px solid gray;flex-grow: 1;}#sk-container-id-7 div.sk-label:hover label.sk-toggleable__label {background-color: #d4ebff;}#sk-container-id-7 div.sk-serial::before {content: \"\";position: absolute;border-left: 1px solid gray;box-sizing: border-box;top: 0;bottom: 0;left: 50%;z-index: 0;}#sk-container-id-7 div.sk-serial {display: flex;flex-direction: column;align-items: center;background-color: white;padding-right: 0.2em;padding-left: 0.2em;position: relative;}#sk-container-id-7 div.sk-item {position: relative;z-index: 1;}#sk-container-id-7 div.sk-parallel {display: flex;align-items: stretch;justify-content: center;background-color: white;position: relative;}#sk-container-id-7 div.sk-item::before, #sk-container-id-7 div.sk-parallel-item::before {content: \"\";position: absolute;border-left: 1px solid gray;box-sizing: border-box;top: 0;bottom: 0;left: 50%;z-index: -1;}#sk-container-id-7 div.sk-parallel-item {display: flex;flex-direction: column;z-index: 1;position: relative;background-color: white;}#sk-container-id-7 div.sk-parallel-item:first-child::after {align-self: flex-end;width: 50%;}#sk-container-id-7 div.sk-parallel-item:last-child::after {align-self: flex-start;width: 50%;}#sk-container-id-7 div.sk-parallel-item:only-child::after {width: 0;}#sk-container-id-7 div.sk-dashed-wrapped {border: 1px dashed gray;margin: 0 0.4em 0.5em 0.4em;box-sizing: border-box;padding-bottom: 0.4em;background-color: white;}#sk-container-id-7 div.sk-label label {font-family: monospace;font-weight: bold;display: inline-block;line-height: 1.2em;}#sk-container-id-7 div.sk-label-container {text-align: center;}#sk-container-id-7 div.sk-container {/* jupyter's `normalize.less` sets `[hidden] { display: none; }` but bootstrap.min.css set `[hidden] { display: none !important; }` so we also need the `!important` here to be able to override the default hidden behavior on the sphinx rendered scikit-learn.org. See: https://github.com/scikit-learn/scikit-learn/issues/21755 */display: inline-block !important;position: relative;}#sk-container-id-7 div.sk-text-repr-fallback {display: none;}</style><div id=\"sk-container-id-7\" class=\"sk-top-container\"><div class=\"sk-text-repr-fallback\"><pre>RandomForestRegressor(max_depth=7, n_estimators=200, random_state=123)</pre><b>In a Jupyter environment, please rerun this cell to show the HTML representation or trust the notebook. <br />On GitHub, the HTML representation is unable to render, please try loading this page with nbviewer.org.</b></div><div class=\"sk-container\" hidden><div class=\"sk-item\"><div class=\"sk-estimator sk-toggleable\"><input class=\"sk-toggleable__control sk-hidden--visually\" id=\"sk-estimator-id-7\" type=\"checkbox\" checked><label for=\"sk-estimator-id-7\" class=\"sk-toggleable__label sk-toggleable__label-arrow\">RandomForestRegressor</label><div class=\"sk-toggleable__content\"><pre>RandomForestRegressor(max_depth=7, n_estimators=200, random_state=123)</pre></div></div></div></div></div>"
            ]
          },
          "metadata": {},
          "execution_count": 264
        }
      ]
    },
    {
      "cell_type": "code",
      "source": [
        "counts = rf.feature_importances_\n",
        "columns = rf.feature_names_in_\n",
        "feature_importance_df = pd.DataFrame({'Feature': columns, 'Importance': counts})\n",
        "feature_importance_df = feature_importance_df.sort_values(by='Importance', ascending=False)\n",
        "plt.figure(figsize=(12, 6))\n",
        "sns.barplot(x='Feature', y='Importance', data=feature_importance_df.head(10), palette='viridis')"
      ],
      "metadata": {
        "colab": {
          "base_uri": "https://localhost:8080/",
          "height": 666
        },
        "id": "vQWAhj3Xmhfp",
        "outputId": "5c92c1cc-2784-402c-aa7d-fabb5cceb1c1"
      },
      "execution_count": 266,
      "outputs": [
        {
          "output_type": "stream",
          "name": "stderr",
          "text": [
            "<ipython-input-266-93dbd03b89cd>:6: FutureWarning: \n",
            "\n",
            "Passing `palette` without assigning `hue` is deprecated and will be removed in v0.14.0. Assign the `x` variable to `hue` and set `legend=False` for the same effect.\n",
            "\n",
            "  sns.barplot(x='Feature', y='Importance', data=feature_importance_df.head(10), palette='viridis')\n"
          ]
        },
        {
          "output_type": "execute_result",
          "data": {
            "text/plain": [
              "<Axes: xlabel='Feature', ylabel='Importance'>"
            ]
          },
          "metadata": {},
          "execution_count": 266
        },
        {
          "output_type": "display_data",
          "data": {
            "text/plain": [
              "<Figure size 1200x600 with 1 Axes>"
            ],
            "image/png": "[encoded data removed]"
          },
          "metadata": {}
        }
      ]
    },
    {
      "cell_type": "markdown",
      "source": [
        "**CONCLUSION:**\n",
        "The most important feature in dataset are:\n",
        "\n",
        "\n",
        "*   OverallQual(the overall material and finish of the house)\n",
        "*   GrLivArea (Above grade (ground) living area square feet)\n",
        "*   TotalBsmtSF (Total square feet of basement area)"
      ],
      "metadata": {
        "id": "sQfdkhnKmoHx"
      }
    },
    {
      "cell_type": "markdown",
      "source": [
        "\n",
        "\n",
        "> First two features are intuitively can be considered to be the most important, but the third one is of the greatest interest.\n",
        "\n",
        "\n",
        "   There is a few articles on this topic:"
      ],
      "metadata": {
        "id": "OloO1qDKn2pz"
      }
    },
    {
      "cell_type": "markdown",
      "source": [
        "[6 unusual things in every american house](https://www.forumdaily.com/6-neprivychnyx-veshhej-kotorye-est-v-kazhdom-amerikanskom-dome/)"
      ],
      "metadata": {
        "id": "Iokt6tJZoXxe"
      }
    },
    {
      "cell_type": "markdown",
      "source": [
        "# **Feature Engineering**"
      ],
      "metadata": {
        "id": "LxVZ-kV9xNrx"
      }
    },
    {
      "cell_type": "code",
      "source": [],
      "metadata": {
        "id": "x8TfCg7DoMd8"
      },
      "execution_count": null,
      "outputs": []
    }
  ]
}